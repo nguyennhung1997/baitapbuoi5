{
 "cells": [
  {
   "cell_type": "code",
   "execution_count": 1,
   "source": [
    "#!/usr/bin/python -tt\r\n",
    "# Copyright 2010 Google Inc.\r\n",
    "# Licensed under the Apache License, Version 2.0\r\n",
    "# http://www.apache.org/licenses/LICENSE-2.0\r\n",
    "# Quang Le - Techmaster.vn - 09/2021\r\n",
    "########\r\n",
    "\r\n",
    "\"\"\"Wordcount exercise\r\n",
    "\r\n",
    "Hàm main() đã được định nghĩa hoàn chỉnh ở dưới. Bạn phải viết hàm print_words()\r\n",
    "và print_top() mà sẽ được gọi từ main().\r\n",
    "\r\n",
    "1. Với đối số --count, viết hàm print_words(filename) đếm số lần xuất hiện của mỗi từ \r\n",
    "trong file đầu vào và in ra theo định dạng sau:\r\n",
    "word1 count1\r\n",
    "word2 count2\r\n",
    "...\r\n",
    "\r\n",
    "In danh sách trên theo thứ tự từ điển các từ (python sẽ sắp xếp dấu câu đứng trước\r\n",
    "các chữ cái nên cũng không thành vấn đề). Lưu tất cả các từ dưới dạng chữ thường,\r\n",
    "vì vậy 'The' và 'the' được tính là cùng một từ.\r\n",
    "\r\n",
    "2. Với đối số --topcount, viết hàm print_top(filename) tương tự như print_words()\r\n",
    "nhưng chỉ in ra 20 từ thông dụng nhất sắp xếp theo từ thông dụng nhất ở trên cùng.\r\n",
    "\r\n",
    "Tùy chọn: định nghĩa một hàm helper để tránh lặp lại code trong các hàm \r\n",
    "print_words() và print_top().\r\n",
    "\r\n",
    "\"\"\"\r\n",
    "\r\n",
    "import sys\r\n",
    "\r\n",
    "# +++your code here+++\r\n",
    "def print_words(filename):\r\n",
    "  pass\r\n",
    "\r\n",
    "def print_top(filename):\r\n",
    "  pass\r\n",
    "\r\n",
    "###\r\n",
    "\r\n",
    "# This basic command line argument parsing code is provided and\r\n",
    "# calls the print_words() and print_top() functions which you must define.\r\n",
    "def main():\r\n",
    "  if len(sys.argv) != 3:\r\n",
    "    print('usage: ./wordcount.py {--count | --topcount} file')\r\n",
    "    sys.exit(1)\r\n",
    "\r\n",
    "  option = sys.argv[1]\r\n",
    "  filename = sys.argv[2]\r\n",
    "  if option == '--count':\r\n",
    "    print_words(filename)\r\n",
    "  elif option == '--topcount':\r\n",
    "    print_top(filename)\r\n",
    "  else:\r\n",
    "    print('unknown option: ' + option)\r\n",
    "    sys.exit(1)\r\n",
    "\r\n",
    "if __name__ == '__main__':\r\n",
    "  main()"
   ],
   "outputs": [
    {
     "output_type": "stream",
     "name": "stdout",
     "text": [
      "usage: ./wordcount.py {--count | --topcount} file\n"
     ]
    },
    {
     "output_type": "error",
     "ename": "SystemExit",
     "evalue": "1",
     "traceback": [
      "An exception has occurred, use %tb to see the full traceback.\n",
      "\u001b[1;31mSystemExit\u001b[0m\u001b[1;31m:\u001b[0m 1\n"
     ]
    },
    {
     "output_type": "stream",
     "name": "stderr",
     "text": [
      "C:\\Users\\nhungnth39\\AppData\\Local\\Programs\\Python\\Python39\\lib\\site-packages\\IPython\\core\\interactiveshell.py:3449: UserWarning: To exit: use 'exit', 'quit', or Ctrl-D.\n",
      "  warn(\"To exit: use 'exit', 'quit', or Ctrl-D.\", stacklevel=1)\n"
     ]
    }
   ],
   "metadata": {}
  }
 ],
 "metadata": {
  "orig_nbformat": 4,
  "language_info": {
   "name": "python",
   "version": "3.9.5",
   "mimetype": "text/x-python",
   "codemirror_mode": {
    "name": "ipython",
    "version": 3
   },
   "pygments_lexer": "ipython3",
   "nbconvert_exporter": "python",
   "file_extension": ".py"
  },
  "kernelspec": {
   "name": "python3",
   "display_name": "Python 3.9.5 64-bit"
  },
  "interpreter": {
   "hash": "cd9704ac0ac766d663a824839ee99c4e53ab2edc825fefd611336bd41bb448f9"
  }
 },
 "nbformat": 4,
 "nbformat_minor": 2
}