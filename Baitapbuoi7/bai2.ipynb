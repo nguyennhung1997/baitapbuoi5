{
 "cells": [
  {
   "cell_type": "code",
   "execution_count": 16,
   "source": [
    "# sắp xếp điểm thi theo số cuối tăng dần\r\n",
    "\r\n",
    "def listA(a):\r\n",
    "    return a[2]\r\n",
    "A = [(1, 2, 5), (9, 1, 2), (6, 4, 4), (3, 2, 3), (10, 2, 1)]\r\n",
    "sorted_list = sorted(A, key=listA)\r\n",
    "print('List đã được sắp xếp:', sorted_list)"
   ],
   "outputs": [
    {
     "output_type": "stream",
     "name": "stdout",
     "text": [
      "List đã được sắp xếp: [(10, 2, 1), (9, 1, 2), (3, 2, 3), (6, 4, 4), (1, 2, 5)]\n"
     ]
    }
   ],
   "metadata": {}
  },
  {
   "cell_type": "code",
   "execution_count": 48,
   "source": [
    "#Cho 1 chuỗi A (vd: \"tHE fOX iS cOMING fOR tHE cHICKEN\"). \r\n",
    "#Viết hàm đảo ngược thứ tự các từ trong chuỗi và đổi tất cả các chữ cái từ hoa thành thường và ngược lại. \r\n",
    "#(kết quả là \"Chicken The For Coming Is Fox The\")\r\n",
    "\r\n",
    "x = \"tHE fOX iS cOMING fOR tHE cHICKEN\"\r\n",
    "x = x.title()\r\n",
    "x = x.split(\" \")   # string thành list\r\n",
    "print(' '.join(x[::-1]))    #list thành String\r\n",
    "\r\n",
    " \r\n"
   ],
   "outputs": [
    {
     "output_type": "stream",
     "name": "stdout",
     "text": [
      "Chicken The For Coming Is Fox The\n"
     ]
    }
   ],
   "metadata": {}
  }
 ],
 "metadata": {
  "orig_nbformat": 4,
  "language_info": {
   "name": "python",
   "version": "3.9.5",
   "mimetype": "text/x-python",
   "codemirror_mode": {
    "name": "ipython",
    "version": 3
   },
   "pygments_lexer": "ipython3",
   "nbconvert_exporter": "python",
   "file_extension": ".py"
  },
  "kernelspec": {
   "name": "python3",
   "display_name": "Python 3.9.5 64-bit"
  },
  "interpreter": {
   "hash": "cd9704ac0ac766d663a824839ee99c4e53ab2edc825fefd611336bd41bb448f9"
  }
 },
 "nbformat": 4,
 "nbformat_minor": 2
}