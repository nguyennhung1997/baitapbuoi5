{
 "cells": [
  {
   "cell_type": "code",
   "execution_count": 1,
   "source": [
    "# bài tập đếm số\r\n",
    "my_list = [10, 21, 21, 40, 40, 52, 52, 1, 1, 2, 2, 2, 2, 11, 11, 11, 11, 25, 24, 24, 60, 40]\r\n",
    "count={}\r\n",
    "for i in my_list:\r\n",
    "    if i in count:\r\n",
    "        count[i] +=1\r\n",
    "    else:\r\n",
    "        count[i] = 1\r\n",
    " \r\n",
    "for i in sorted(count, key=count.get, reverse=False):\r\n",
    "    print(i, count[i])"
   ],
   "outputs": [
    {
     "output_type": "stream",
     "name": "stdout",
     "text": [
      "10 1\n",
      "25 1\n",
      "60 1\n",
      "21 2\n",
      "52 2\n",
      "1 2\n",
      "24 2\n",
      "40 3\n",
      "2 4\n",
      "11 4\n"
     ]
    }
   ],
   "metadata": {}
  },
  {
   "cell_type": "code",
   "execution_count": 124,
   "source": [
    "# bài tập in hình 2\r\n",
    "n = input(\"Nhập vào số hàng: \")\r\n",
    "n = int(n)\r\n",
    "def pypart2(n):\r\n",
    "    t = input(\"Nhập kiểu hiển thị (3 kiểu: 1,2,3): \")\r\n",
    "    t = int(t)\r\n",
    "    if t != 1 and t != 2 and t != 3:\r\n",
    "        print(\"Kiểu hiện thị nhập không đúng. Nhập lại!\")\r\n",
    "        pypart2(n) \r\n",
    "    else:\r\n",
    "        #Kiểu 1\r\n",
    "        if t == 1: \r\n",
    "            print(\"Kiểu 1\")\r\n",
    "            k = 2 * n - 2\r\n",
    "            for i in range(0, n): \r\n",
    "                for j in range(0, k): \r\n",
    "                    print(end=\" \") \r\n",
    "                k = k - 2\r\n",
    "                for j in range(0, i + 1):\r\n",
    "                    print(\"* \", end = \"\") \r\n",
    "                print(\"\\r\") \r\n",
    "\r\n",
    "        #Kiểu 2\r\n",
    "        elif t == 2: \r\n",
    "            print(\"Kiểu 2\")\r\n",
    "            l0 = 2 * n - 1\r\n",
    "            l1 = n - 1\r\n",
    "            k = 2 * l1 - 2\r\n",
    "            for i in range(0, l1): \r\n",
    "                print(end=\"  \") \r\n",
    "                for j in range(0, k): \r\n",
    "                    print(end=\" \") \r\n",
    "                k = k - 2\r\n",
    "                for j in range(0, i + 1):\r\n",
    "                    print(\"* \", end = \"\") \r\n",
    "                print(\"\\r\")\r\n",
    "\r\n",
    "            for i2 in range(0, l0 + 1):\r\n",
    "                print(\"* \", end = \"\") \r\n",
    "            print(\"\\r\")\r\n",
    "\r\n",
    "            k2 = 2 * l1 - 2\r\n",
    "            for i3 in range(0, l1):\r\n",
    "                for j3 in range(0, n):\r\n",
    "                    print(end = \"  \") \r\n",
    "                k2 = k2 - 2\r\n",
    "                for j in range(0, n - (i3 + 1)):\r\n",
    "                    print(\"* \", end = \"\") \r\n",
    "                print(\"\\r\")\r\n",
    "                \r\n",
    "        #Kiểu 3\r\n",
    "        else: \r\n",
    "            print(\"Kiểu 3\")\r\n",
    "            l0 = 2 * n - 1\r\n",
    "            l1 = n - 1\r\n",
    "            k = 2 * l1 - 2\r\n",
    "            for i in range(0, l1):\r\n",
    "                k = k - 2\r\n",
    "                j_m = i + 1\r\n",
    "                for j in range(0, j_m):\r\n",
    "                    if j_m >= 3 and j > 0 and j < (j_m - 1):\r\n",
    "                        print(\"  \", end = \"\") \r\n",
    "                    else:\r\n",
    "                        print(\"* \", end = \"\")\r\n",
    "                print(\"\\r\")\r\n",
    "\r\n",
    "            for i2 in range(0, l0 + 1):\r\n",
    "                print(\"* \", end = \"\") \r\n",
    "            print(\"\\r\")\r\n",
    "\r\n",
    "            k2 = 2 * l1 - 2\r\n",
    "            for i3 in range(0, l1): \r\n",
    "                for j in range(0, n):\r\n",
    "                    print(end = \"  \")\r\n",
    "\r\n",
    "                for j1 in range(0, i3 + 1):\r\n",
    "                    print(end=\"  \") \r\n",
    "\r\n",
    "                k2 = k2 - 2\r\n",
    "                j2_m = n - (i3 + 1)\r\n",
    "                for j2 in range(0, j2_m):\r\n",
    "                    if j2_m >= 3 and j2 > 0 and j2 < (j2_m - 1):\r\n",
    "                        print(\"  \", end = \"\") \r\n",
    "                    else:\r\n",
    "                        print(\"* \", end = \"\") \r\n",
    "                print(\"\\r\")\r\n",
    "#n = 5\r\n",
    "pypart2(n) "
   ],
   "outputs": [
    {
     "output_type": "stream",
     "name": "stdout",
     "text": [
      "Kiểu 3\n",
      "* \n",
      "* * \n",
      "*   * \n",
      "*     * \n",
      "*       * \n",
      "* * * * * * * * * * * * \n",
      "              *       * \n",
      "                *     * \n",
      "                  *   * \n",
      "                    * * \n",
      "                      * \n"
     ]
    }
   ],
   "metadata": {}
  },
  {
   "cell_type": "code",
   "execution_count": 3,
   "source": [
    "# Đếm ngược đến XMas\r\n",
    "import datetime\r\n",
    "import threading\r\n",
    "\r\n",
    "def xmax_countdown():\r\n",
    "  dt1 = datetime.datetime.today()\r\n",
    "  dt2= datetime.datetime(2021, 12, 25, 0, 00, 00, 000)\r\n",
    "  dt3 = dt2 - dt1\r\n",
    "  print(\"Countdown to Xmas 2021:\", dt3)\r\n",
    "\r\n",
    "def setInterval(func,time):\r\n",
    "    e = threading.Event()\r\n",
    "    while not e.wait(time):\r\n",
    "        func()\r\n",
    "\r\n",
    "setInterval(xmax_countdown, 5)"
   ],
   "outputs": [
    {
     "output_type": "stream",
     "name": "stdout",
     "text": [
      "Countdown to Xmas 2021: 111 days, 8:37:36.626779\n",
      "Countdown to Xmas 2021: 111 days, 8:37:34.613285\n",
      "Countdown to Xmas 2021: 111 days, 8:37:32.591703\n",
      "Countdown to Xmas 2021: 111 days, 8:37:30.590699\n",
      "Countdown to Xmas 2021: 111 days, 8:37:28.589433\n",
      "Countdown to Xmas 2021: 111 days, 8:37:26.576006\n",
      "Countdown to Xmas 2021: 111 days, 8:37:24.566311\n",
      "Countdown to Xmas 2021: 111 days, 8:37:22.562331\n"
     ]
    },
    {
     "output_type": "error",
     "ename": "KeyboardInterrupt",
     "evalue": "",
     "traceback": [
      "\u001b[1;31m---------------------------------------------------------------------------\u001b[0m",
      "\u001b[1;31mKeyboardInterrupt\u001b[0m                         Traceback (most recent call last)",
      "\u001b[1;32mC:\\Users\\NHUNGN~1\\AppData\\Local\\Temp/ipykernel_15760/2128378847.py\u001b[0m in \u001b[0;36m<module>\u001b[1;34m\u001b[0m\n\u001b[0;32m     14\u001b[0m         \u001b[0mfunc\u001b[0m\u001b[1;33m(\u001b[0m\u001b[1;33m)\u001b[0m\u001b[1;33m\u001b[0m\u001b[1;33m\u001b[0m\u001b[0m\n\u001b[0;32m     15\u001b[0m \u001b[1;33m\u001b[0m\u001b[0m\n\u001b[1;32m---> 16\u001b[1;33m \u001b[0msetInterval\u001b[0m\u001b[1;33m(\u001b[0m\u001b[0mxmax_countdown\u001b[0m\u001b[1;33m,\u001b[0m \u001b[1;36m2\u001b[0m\u001b[1;33m)\u001b[0m\u001b[1;33m\u001b[0m\u001b[1;33m\u001b[0m\u001b[0m\n\u001b[0m",
      "\u001b[1;32mC:\\Users\\NHUNGN~1\\AppData\\Local\\Temp/ipykernel_15760/2128378847.py\u001b[0m in \u001b[0;36msetInterval\u001b[1;34m(func, time)\u001b[0m\n\u001b[0;32m     11\u001b[0m \u001b[1;32mdef\u001b[0m \u001b[0msetInterval\u001b[0m\u001b[1;33m(\u001b[0m\u001b[0mfunc\u001b[0m\u001b[1;33m,\u001b[0m\u001b[0mtime\u001b[0m\u001b[1;33m)\u001b[0m\u001b[1;33m:\u001b[0m\u001b[1;33m\u001b[0m\u001b[1;33m\u001b[0m\u001b[0m\n\u001b[0;32m     12\u001b[0m     \u001b[0me\u001b[0m \u001b[1;33m=\u001b[0m \u001b[0mthreading\u001b[0m\u001b[1;33m.\u001b[0m\u001b[0mEvent\u001b[0m\u001b[1;33m(\u001b[0m\u001b[1;33m)\u001b[0m\u001b[1;33m\u001b[0m\u001b[1;33m\u001b[0m\u001b[0m\n\u001b[1;32m---> 13\u001b[1;33m     \u001b[1;32mwhile\u001b[0m \u001b[1;32mnot\u001b[0m \u001b[0me\u001b[0m\u001b[1;33m.\u001b[0m\u001b[0mwait\u001b[0m\u001b[1;33m(\u001b[0m\u001b[0mtime\u001b[0m\u001b[1;33m)\u001b[0m\u001b[1;33m:\u001b[0m\u001b[1;33m\u001b[0m\u001b[1;33m\u001b[0m\u001b[0m\n\u001b[0m\u001b[0;32m     14\u001b[0m         \u001b[0mfunc\u001b[0m\u001b[1;33m(\u001b[0m\u001b[1;33m)\u001b[0m\u001b[1;33m\u001b[0m\u001b[1;33m\u001b[0m\u001b[0m\n\u001b[0;32m     15\u001b[0m \u001b[1;33m\u001b[0m\u001b[0m\n",
      "\u001b[1;32m~\\AppData\\Local\\Programs\\Python\\Python39\\lib\\threading.py\u001b[0m in \u001b[0;36mwait\u001b[1;34m(self, timeout)\u001b[0m\n\u001b[0;32m    572\u001b[0m             \u001b[0msignaled\u001b[0m \u001b[1;33m=\u001b[0m \u001b[0mself\u001b[0m\u001b[1;33m.\u001b[0m\u001b[0m_flag\u001b[0m\u001b[1;33m\u001b[0m\u001b[1;33m\u001b[0m\u001b[0m\n\u001b[0;32m    573\u001b[0m             \u001b[1;32mif\u001b[0m \u001b[1;32mnot\u001b[0m \u001b[0msignaled\u001b[0m\u001b[1;33m:\u001b[0m\u001b[1;33m\u001b[0m\u001b[1;33m\u001b[0m\u001b[0m\n\u001b[1;32m--> 574\u001b[1;33m                 \u001b[0msignaled\u001b[0m \u001b[1;33m=\u001b[0m \u001b[0mself\u001b[0m\u001b[1;33m.\u001b[0m\u001b[0m_cond\u001b[0m\u001b[1;33m.\u001b[0m\u001b[0mwait\u001b[0m\u001b[1;33m(\u001b[0m\u001b[0mtimeout\u001b[0m\u001b[1;33m)\u001b[0m\u001b[1;33m\u001b[0m\u001b[1;33m\u001b[0m\u001b[0m\n\u001b[0m\u001b[0;32m    575\u001b[0m             \u001b[1;32mreturn\u001b[0m \u001b[0msignaled\u001b[0m\u001b[1;33m\u001b[0m\u001b[1;33m\u001b[0m\u001b[0m\n\u001b[0;32m    576\u001b[0m \u001b[1;33m\u001b[0m\u001b[0m\n",
      "\u001b[1;32m~\\AppData\\Local\\Programs\\Python\\Python39\\lib\\threading.py\u001b[0m in \u001b[0;36mwait\u001b[1;34m(self, timeout)\u001b[0m\n\u001b[0;32m    314\u001b[0m             \u001b[1;32melse\u001b[0m\u001b[1;33m:\u001b[0m\u001b[1;33m\u001b[0m\u001b[1;33m\u001b[0m\u001b[0m\n\u001b[0;32m    315\u001b[0m                 \u001b[1;32mif\u001b[0m \u001b[0mtimeout\u001b[0m \u001b[1;33m>\u001b[0m \u001b[1;36m0\u001b[0m\u001b[1;33m:\u001b[0m\u001b[1;33m\u001b[0m\u001b[1;33m\u001b[0m\u001b[0m\n\u001b[1;32m--> 316\u001b[1;33m                     \u001b[0mgotit\u001b[0m \u001b[1;33m=\u001b[0m \u001b[0mwaiter\u001b[0m\u001b[1;33m.\u001b[0m\u001b[0macquire\u001b[0m\u001b[1;33m(\u001b[0m\u001b[1;32mTrue\u001b[0m\u001b[1;33m,\u001b[0m \u001b[0mtimeout\u001b[0m\u001b[1;33m)\u001b[0m\u001b[1;33m\u001b[0m\u001b[1;33m\u001b[0m\u001b[0m\n\u001b[0m\u001b[0;32m    317\u001b[0m                 \u001b[1;32melse\u001b[0m\u001b[1;33m:\u001b[0m\u001b[1;33m\u001b[0m\u001b[1;33m\u001b[0m\u001b[0m\n\u001b[0;32m    318\u001b[0m                     \u001b[0mgotit\u001b[0m \u001b[1;33m=\u001b[0m \u001b[0mwaiter\u001b[0m\u001b[1;33m.\u001b[0m\u001b[0macquire\u001b[0m\u001b[1;33m(\u001b[0m\u001b[1;32mFalse\u001b[0m\u001b[1;33m)\u001b[0m\u001b[1;33m\u001b[0m\u001b[1;33m\u001b[0m\u001b[0m\n",
      "\u001b[1;31mKeyboardInterrupt\u001b[0m: "
     ]
    }
   ],
   "metadata": {}
  },
  {
   "cell_type": "code",
   "execution_count": 126,
   "source": [
    "#Find Pair\r\n",
    "a = [2,4,5,6,8,9,1,3]\r\n",
    "s = int(input('Nhập tổng: '))\r\n",
    "list = []\r\n",
    "def tong(s):\r\n",
    "  l = len(a)\r\n",
    "  b = a[:]\r\n",
    "  for i in range(0,l):\r\n",
    "    l2 = len(b)\r\n",
    "    for i2 in range(0,l2):\r\n",
    "      if a[i] == b[i2]:\r\n",
    "        del b[i2]\r\n",
    "        break\r\n",
    "    l2 = len(b)\r\n",
    "    for j in range(0, l2):\r\n",
    "      t = int(a[i] + b[j])\r\n",
    "      if s == t:\r\n",
    "        _tuple = (a[i],b[j])\r\n",
    "        list.append(_tuple)\r\n",
    "  print(\"List kết quả: \", list)\r\n",
    "\r\n",
    "tong(s)\r\n",
    "  \r\n"
   ],
   "outputs": [
    {
     "output_type": "stream",
     "name": "stdout",
     "text": [
      "List kết quả:  [(2, 3), (4, 1)]\n"
     ]
    }
   ],
   "metadata": {}
  },
  {
   "cell_type": "code",
   "execution_count": 1,
   "source": [
    "#Unique value Dictionary\r\n",
    "d = [dict(Trang=38, Thu=38, Ngoc=27, Thanh=26, Yen=25, Hang=22, Thuy=22)]\r\n",
    "a = {}\r\n",
    "for b in d[0]:\r\n",
    "  c = {d[0][b]}\r\n",
    "  a = set(set(a) | c)\r\n",
    "print(a)\r\n"
   ],
   "outputs": [
    {
     "output_type": "stream",
     "name": "stdout",
     "text": [
      "{38, 22, 25, 26, 27}\n"
     ]
    }
   ],
   "metadata": {}
  }
 ],
 "metadata": {
  "orig_nbformat": 4,
  "language_info": {
   "name": "python",
   "version": "3.9.5",
   "mimetype": "text/x-python",
   "codemirror_mode": {
    "name": "ipython",
    "version": 3
   },
   "pygments_lexer": "ipython3",
   "nbconvert_exporter": "python",
   "file_extension": ".py"
  },
  "kernelspec": {
   "name": "python3",
   "display_name": "Python 3.9.5 64-bit"
  },
  "interpreter": {
   "hash": "cd9704ac0ac766d663a824839ee99c4e53ab2edc825fefd611336bd41bb448f9"
  }
 },
 "nbformat": 4,
 "nbformat_minor": 2
}