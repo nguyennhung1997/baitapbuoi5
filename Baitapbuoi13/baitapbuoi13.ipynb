{
 "cells": [
  {
   "cell_type": "code",
   "execution_count": 1,
   "source": [
    "class BankAccount:\r\n",
    "    def __init__(self, account_number1, account_name1, balance1=0):\r\n",
    "        self.account_number = account_number1\r\n",
    "        self.account_name = account_name1\r\n",
    "        self.set_balance(balance1)\r\n",
    "\r\n",
    "    @property\r\n",
    "    def get_account_number(self):\r\n",
    "        return self.account_number\r\n",
    "\r\n",
    "    @property\r\n",
    "    def get_account_name(self):\r\n",
    "        return self.account_name\r\n",
    "\r\n",
    "    @property\r\n",
    "    def get_balance(self):\r\n",
    "        return self.balance\r\n",
    "\r\n",
    "nhun = BankAccount.from_csv(s)\r\n",
    "nhun.display()\r\n"
   ],
   "outputs": [
    {
     "output_type": "error",
     "ename": "AttributeError",
     "evalue": "type object 'BankAccount' has no attribute 'from_csv'",
     "traceback": [
      "\u001b[1;31m---------------------------------------------------------------------------\u001b[0m",
      "\u001b[1;31mAttributeError\u001b[0m                            Traceback (most recent call last)",
      "\u001b[1;32mC:\\Users\\NHUNGN~1\\AppData\\Local\\Temp/ipykernel_17596/1876282529.py\u001b[0m in \u001b[0;36m<module>\u001b[1;34m\u001b[0m\n\u001b[0;32m     17\u001b[0m         \u001b[1;32mreturn\u001b[0m \u001b[0mself\u001b[0m\u001b[1;33m.\u001b[0m\u001b[0mbalance\u001b[0m\u001b[1;33m\u001b[0m\u001b[1;33m\u001b[0m\u001b[0m\n\u001b[0;32m     18\u001b[0m \u001b[1;33m\u001b[0m\u001b[0m\n\u001b[1;32m---> 19\u001b[1;33m \u001b[0mnhun\u001b[0m \u001b[1;33m=\u001b[0m \u001b[0mBankAccount\u001b[0m\u001b[1;33m.\u001b[0m\u001b[0mfrom_csv\u001b[0m\u001b[1;33m(\u001b[0m\u001b[0ms\u001b[0m\u001b[1;33m)\u001b[0m\u001b[1;33m\u001b[0m\u001b[1;33m\u001b[0m\u001b[0m\n\u001b[0m\u001b[0;32m     20\u001b[0m \u001b[0mnhun\u001b[0m\u001b[1;33m.\u001b[0m\u001b[0mdisplay\u001b[0m\u001b[1;33m(\u001b[0m\u001b[1;33m)\u001b[0m\u001b[1;33m\u001b[0m\u001b[1;33m\u001b[0m\u001b[0m\n",
      "\u001b[1;31mAttributeError\u001b[0m: type object 'BankAccount' has no attribute 'from_csv'"
     ]
    }
   ],
   "metadata": {}
  }
 ],
 "metadata": {
  "orig_nbformat": 4,
  "language_info": {
   "name": "python",
   "version": "3.9.5",
   "mimetype": "text/x-python",
   "codemirror_mode": {
    "name": "ipython",
    "version": 3
   },
   "pygments_lexer": "ipython3",
   "nbconvert_exporter": "python",
   "file_extension": ".py"
  },
  "kernelspec": {
   "name": "python3",
   "display_name": "Python 3.9.5 64-bit"
  },
  "interpreter": {
   "hash": "cd9704ac0ac766d663a824839ee99c4e53ab2edc825fefd611336bd41bb448f9"
  }
 },
 "nbformat": 4,
 "nbformat_minor": 2
}