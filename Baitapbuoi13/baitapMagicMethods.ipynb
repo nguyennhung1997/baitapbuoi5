{
 "cells": [
  {
   "cell_type": "code",
   "execution_count": 2,
   "source": [
    "import math\r\n",
    "\r\n",
    "\r\n",
    "class Fraction(object):\r\n",
    "    def __init__(self, nr, dr):\r\n",
    "        if dr < 0:\r\n",
    "            self.nr = -nr\r\n",
    "        else:\r\n",
    "            self.nr = nr\r\n",
    "\r\n",
    "        self.nr = int(self.nr)\r\n",
    "        self.dr = int(abs(dr))\r\n",
    "        # rút gọn\r\n",
    "        self.reduce()\r\n",
    "\r\n",
    "    def __str__(self) -> str:\r\n",
    "        # Nếu nr == 0, chỉ in ra 0\r\n",
    "        if self.nr == 0:\r\n",
    "            return str(self.nr)\r\n",
    "        # Nếu dr == 0, raise ZeroDivisionError\r\n",
    "        if self.dr == 0:\r\n",
    "            raise ZeroDivisionError\r\n",
    "        # Nếu dr == 1, chỉ in ra nr\r\n",
    "        if self.dr == 1:\r\n",
    "            return str(self.nr)\r\n",
    "        return \"%d/%d\" % (self.nr, self.dr)\r\n",
    "\r\n",
    "    def hcf(self):\r\n",
    "        return math.gcd(self.nr, self.dr)\r\n",
    "\r\n",
    "    def reduce(self):\r\n",
    "        # ước số chung lớn nhất\r\n",
    "        usc = self.hcf()\r\n",
    "        self.nr = self.nr / usc\r\n",
    "        self.dr = self.dr / usc\r\n",
    "\r\n",
    "    def __add__(self, other):\r\n",
    "        if isinstance(other, Fraction):\r\n",
    "            return Fraction(self.nr * other.dr + other.nr * self.dr, self.dr * other.dr)\r\n",
    "        return Fraction(self.nr + other * self.dr, self.dr)\r\n",
    "\r\n",
    "    def __sub__(self, other):\r\n",
    "        if isinstance(other, Fraction):\r\n",
    "            return Fraction(self.nr * other.dr - other.nr * self.dr, self.dr * other.dr)\r\n",
    "        return Fraction(self.nr + other * self.dr, self.dr)\r\n",
    "\r\n",
    "    def __truediv__(self, other):\r\n",
    "        if isinstance(other, Fraction):\r\n",
    "            return Fraction(self.nr * other.dr, self.dr * other.nr)\r\n",
    "        return Fraction(self.nr, other * self.dr)\r\n",
    "\r\n",
    "    def __mul__(self, other):\r\n",
    "        if isinstance(other, Fraction):\r\n",
    "            return Fraction(self.nr * other.dr, self.dr * other.nr)\r\n",
    "        return Fraction(self.nr * other, self.dr)\r\n",
    "\r\n",
    "\r\n",
    "if __name__ == '__main__':\r\n",
    "    f1 = Fraction(1, 2)\r\n",
    "    print(f1)\r\n",
    "    f2 = Fraction(2, 6)\r\n",
    "    print(f2)\r\n",
    "\r\n",
    "    print(f'{f1} + {f2} = {f1 + f2}')\r\n",
    "    print(f'{f1} - {f2} = {f1 - f2}')\r\n",
    "    print(f'{f1} * {f2} = {f1 * f2}')\r\n",
    "    print(f'{f1} / {f2} = {f1 / f2}')\r\n",
    "    print(f'{f1} / {2} = {f1 / 2}')\r\n",
    "    print(f'{f1} / {1.5} = {f1 / 1.5}')\r\n"
   ],
   "outputs": [
    {
     "output_type": "stream",
     "name": "stdout",
     "text": [
      "1/2\n",
      "1/3\n",
      "1/2 + 1/3 = 5/6\n",
      "1/2 - 1/3 = 1/6\n",
      "1/2 * 1/3 = 3/2\n",
      "1/2 / 1/3 = 3/2\n",
      "1/2 / 2 = 1/4\n",
      "1/2 / 1.5 = 1/3\n"
     ]
    }
   ],
   "metadata": {}
  }
 ],
 "metadata": {
  "orig_nbformat": 4,
  "language_info": {
   "name": "python",
   "version": "3.9.5",
   "mimetype": "text/x-python",
   "codemirror_mode": {
    "name": "ipython",
    "version": 3
   },
   "pygments_lexer": "ipython3",
   "nbconvert_exporter": "python",
   "file_extension": ".py"
  },
  "kernelspec": {
   "name": "python3",
   "display_name": "Python 3.9.5 64-bit"
  },
  "interpreter": {
   "hash": "cd9704ac0ac766d663a824839ee99c4e53ab2edc825fefd611336bd41bb448f9"
  }
 },
 "nbformat": 4,
 "nbformat_minor": 2
}