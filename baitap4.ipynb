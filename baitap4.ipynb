{
 "cells": [
  {
   "cell_type": "code",
   "execution_count": 41,
   "source": [
    "def mean(numbers):\r\n",
    "    return float(sum(numbers)) / max(len(numbers), 1)\r\n",
    "\r\n",
    "mean([]5, 5, 2, 6, 7, 5, 6, 9, 3, 9, 10, 3, 9, 4, 10)"
   ],
   "outputs": [
    {
     "output_type": "execute_result",
     "data": {
      "text/plain": [
       "6.2"
      ]
     },
     "metadata": {},
     "execution_count": 41
    }
   ],
   "metadata": {}
  },
  {
   "cell_type": "code",
   "execution_count": 43,
   "source": [
    "def median(lst):\r\n",
    "    n = len(lst)\r\n",
    "    if n < 1:\r\n",
    "            return None\r\n",
    "    if n % 2 == 1:\r\n",
    "            return sorted(lst)[n//2]\r\n",
    "    else:\r\n",
    "            return sum(sorted(lst)[n//2-1:n//2+1])/2.0\r\n",
    "median([2, 3, 3, 4, 5, 5, 5, 6, 6, 7, 9, 9, 9, 10, 10])"
   ],
   "outputs": [
    {
     "output_type": "execute_result",
     "data": {
      "text/plain": [
       "6"
      ]
     },
     "metadata": {},
     "execution_count": 43
    }
   ],
   "metadata": {}
  },
  {
   "cell_type": "code",
   "execution_count": 49,
   "source": [
    "def mode(List):\r\n",
    "    return max(set(List), key = List.count)\r\n",
    " \r\n",
    "List = [2, 3, 3, 4, 5, 5, 5, 6, 6, 7, 9, 9, 9, 9, 10, 10]\r\n",
    "print(mode(List))"
   ],
   "outputs": [
    {
     "output_type": "stream",
     "name": "stdout",
     "text": [
      "9\n"
     ]
    }
   ],
   "metadata": {}
  },
  {
   "cell_type": "code",
   "execution_count": 51,
   "source": [
    "def most_frequent(List):\r\n",
    "    counter = 0\r\n",
    "    num = List[0]\r\n",
    "     \r\n",
    "    for i in List:\r\n",
    "        curr_frequency = List.count(i)\r\n",
    "        if(curr_frequency> counter):\r\n",
    "            counter = curr_frequency\r\n",
    "            num = i\r\n",
    " \r\n",
    "    return num\r\n",
    " \r\n",
    "List = [2, 3, 3, 4, 5, 5, 5, 6, 6, 7, 9, 9, 9, 9, 10, 10]\r\n",
    "print(most_frequent(List))"
   ],
   "outputs": [
    {
     "output_type": "stream",
     "name": "stdout",
     "text": [
      "9\n"
     ]
    }
   ],
   "metadata": {}
  },
  {
   "cell_type": "code",
   "execution_count": 54,
   "source": [
    "def Count(input_str) -> dict:\r\n",
    "    upper, lower, number, letter = 0, 0, 0, 0\r\n",
    "    for i in range(len(input_str)):\r\n",
    "        # LETTER\r\n",
    "        if input_str[i].isalpha():\r\n",
    "            letter += 1\r\n",
    "\r\n",
    "        if input_str[i].isupper():\r\n",
    "            upper += 1\r\n",
    "        elif input_str[i].islower():\r\n",
    "            lower += 1\r\n",
    "        elif input_str[i].isdigit():\r\n",
    "            number += 1\r\n",
    "    return {\r\n",
    "        \"LETTERS\": letter,\r\n",
    "        \"CASE\": {\r\n",
    "            \"UPPER CASE\": upper,\r\n",
    "            \"LOWER CASE\": lower\r\n",
    "        },\r\n",
    "        \"DIGITS\": number\r\n",
    "    }\r\n",
    "\r\n",
    "\r\n",
    "# tc1\r\n",
    "# Output: {'LETTERS': 10, 'CASE': {'UPPER CASE': 2, 'LOWER CASE': 8}, 'DIGITS': 3}\r\n",
    "str1 = \"Hello World! 123\"\r\n",
    "print(Count(str1))\r\n",
    "\r\n",
    "# tc 2\r\n",
    "# Output: {'LETTERS': 15, 'CASE': {'UPPER CASE': 2, 'LOWER CASE': 13}, 'DIGITS': 3}\r\n",
    "str2 = \"#hello World!1234 Nhung\"\r\n",
    "Count(str2)\r\n",
    "print(Count(str2))"
   ],
   "outputs": [
    {
     "output_type": "stream",
     "name": "stdout",
     "text": [
      "{'LETTERS': 10, 'CASE': {'UPPER CASE': 2, 'LOWER CASE': 8}, 'DIGITS': 3}\n",
      "{'LETTERS': 15, 'CASE': {'UPPER CASE': 2, 'LOWER CASE': 13}, 'DIGITS': 4}\n"
     ]
    }
   ],
   "metadata": {}
  }
 ],
 "metadata": {
  "orig_nbformat": 4,
  "language_info": {
   "name": "python",
   "version": "3.9.5",
   "mimetype": "text/x-python",
   "codemirror_mode": {
    "name": "ipython",
    "version": 3
   },
   "pygments_lexer": "ipython3",
   "nbconvert_exporter": "python",
   "file_extension": ".py"
  },
  "kernelspec": {
   "name": "python3",
   "display_name": "Python 3.9.5 64-bit"
  },
  "interpreter": {
   "hash": "cd9704ac0ac766d663a824839ee99c4e53ab2edc825fefd611336bd41bb448f9"
  }
 },
 "nbformat": 4,
 "nbformat_minor": 2
}