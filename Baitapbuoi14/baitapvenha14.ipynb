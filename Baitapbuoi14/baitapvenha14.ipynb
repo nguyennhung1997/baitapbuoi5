{
 "cells": [
  {
   "cell_type": "code",
   "execution_count": 13,
   "source": [
    "\r\n",
    "class BankAccount:\r\n",
    "    def __init__(self, account_number1, account_name1, balance1=0):\r\n",
    "        self.account_number = account_number1\r\n",
    "        self.account_name = account_name1\r\n",
    "        self.set_balance(balance1)\r\n",
    "\r\n",
    "    def get_account_number(self):\r\n",
    "        return self.account_number\r\n",
    "\r\n",
    "    def get_account_name(self):\r\n",
    "        return self.account_name\r\n",
    "\r\n",
    "    def get_balance(self):\r\n",
    "        return self.balance\r\n",
    "\r\n",
    "    def set_balance(self, new_balance):\r\n",
    "        if new_balance > 0:\r\n",
    "            self.balance = new_balance\r\n",
    "        else:\r\n",
    "            print(\"Không hợp lệ\")\r\n",
    "    \r\n",
    "    def display(self):\r\n",
    "        print(f\"{self.get_account_number()} - {self.get_account_name()} - {self.get_balance()}\")\r\n",
    "\r\n",
    "my_account = BankAccount(10392094091030, \"Nhung\", 12000000 )\r\n",
    "my_account.display()\r\n",
    "\r\n",
    "class SavingAccount(BankAccount):\r\n",
    "    def __init__(self, monthly_interest_rate, *args, **kwarg):\r\n",
    "        self.monthly_interest_rate = monthly_interest_rate\r\n",
    "        super().__init__(*args, **kwarg)\r\n",
    "\r\n",
    "    def calculate_interest(self):\r\n",
    "        return self.balance * self.monthly_interest_rate\r\n",
    "\r\n",
    "my_account = SavingAccount(0.005, 10392094091030, \"Nhung\", 12000000 )\r\n",
    "print(my_account.calculate_interest())\r\n"
   ],
   "outputs": [
    {
     "output_type": "stream",
     "name": "stdout",
     "text": [
      "10392094091030 - Nhung - 12000000\n",
      "60000.0\n"
     ]
    }
   ],
   "metadata": {}
  },
  {
   "cell_type": "code",
   "execution_count": 5,
   "source": [
    "#Tạo class Customer bao gồm một số thông tin:\r\n",
    "# name, date_of_birth, email, phone\r\n",
    "# get_info() hiển thị thông tin Customer\r\n",
    "\r\n",
    "class customer:\r\n",
    "    def __init__(self,name, date_of_birth, email, phone):\r\n",
    "        self.name = name\r\n",
    "        self.date_of_birth = date_of_birth\r\n",
    "        self.email = email\r\n",
    "        self.phone = phone\r\n",
    "\r\n",
    "    def get_name(self):\r\n",
    "        return self.name\r\n",
    "\r\n",
    "    def get_date_of_birth(self):\r\n",
    "        return self.date_of_birth\r\n",
    "\r\n",
    "    def get_email(self):\r\n",
    "        return self.email\r\n",
    "\r\n",
    "    def get_phone(self):\r\n",
    "        return self.phone\r\n",
    "\r\n",
    "    def get_info(self):\r\n",
    "        print(f\"{self.get_name()} - {self.get_date_of_birth()} - {self.get_email()} - {self.get_phone()}\")\r\n",
    "\r\n",
    "my_account = customer(\"Nhung\", 12000000, \"nhun@gmail.com\" , \"0995839402\" )\r\n",
    "my_account.get_info()\r\n",
    "\r\n",
    "    \r\n",
    "\r\n",
    "\r\n"
   ],
   "outputs": [
    {
     "output_type": "stream",
     "name": "stdout",
     "text": [
      "Nhung - 12000000 - nhun@gmail.com - 0995839402\n"
     ]
    }
   ],
   "metadata": {}
  },
  {
   "cell_type": "code",
   "execution_count": null,
   "source": [
    "# Thay đổi class BankAccount:\r\n",
    "# _account_name thành _owner là một Customer\r\n",
    "# display() hiển thị thông tin số tài khoản, thông tin khách hàng và số dư\r\n",
    "\r\n",
    "class BankAccount:\r\n",
    "    def set_details(self, account_number, account_name, balance=0):\r\n",
    "        self.account_number = account_number\r\n",
    "        self.account_name = account_name\r\n",
    "        self.balance = balance\r\n",
    "\r\n",
    "    def display(self):\r\n",
    "        print(self.account_number, self.account_name, self.balance, \"₫\")\r\n",
    "\r\n",
    "    def withdraw(self, amount):\r\n",
    "        self.balance -= amount\r\n",
    "\r\n",
    "    def deposite(self, amount):\r\n",
    "        self.balance += amount\r\n",
    "\r\n",
    "my_account = BankAccount()\r\n",
    "my_account.set_details(1,\"Nguyen\")\r\n",
    "\r\n",
    "my_account.display()\r\n",
    "my_account.deposite(130490934900)\r\n",
    "my_account.display()\r\n"
   ],
   "outputs": [],
   "metadata": {}
  }
 ],
 "metadata": {
  "orig_nbformat": 4,
  "language_info": {
   "name": "python",
   "version": "3.9.5",
   "mimetype": "text/x-python",
   "codemirror_mode": {
    "name": "ipython",
    "version": 3
   },
   "pygments_lexer": "ipython3",
   "nbconvert_exporter": "python",
   "file_extension": ".py"
  },
  "kernelspec": {
   "name": "python3",
   "display_name": "Python 3.9.5 64-bit"
  },
  "interpreter": {
   "hash": "cd9704ac0ac766d663a824839ee99c4e53ab2edc825fefd611336bd41bb448f9"
  }
 },
 "nbformat": 4,
 "nbformat_minor": 2
}