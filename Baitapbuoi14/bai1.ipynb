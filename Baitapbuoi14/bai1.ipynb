{
 "cells": [
  {
   "cell_type": "code",
   "execution_count": 6,
   "source": [
    "\r\n",
    "\r\n",
    "class Square:\r\n",
    "    def __init__(self, dai, rong):\r\n",
    "        self.dai = dai\r\n",
    "        self.rong = rong\r\n",
    "\r\n",
    "    def area(self):\r\n",
    "        return self.dai * self.rong\r\n",
    "\r\n",
    "    def perimeter(self):\r\n",
    "        return (self.dai*4)\r\n",
    "\r\n",
    "obj = Square(3, 5)\r\n",
    "print(obj.area())\r\n",
    "print(obj.perimeter())\r\n",
    "# r = area(1, 5)\r\n",
    "# t = perimeter(2)"
   ],
   "outputs": [
    {
     "output_type": "stream",
     "name": "stdout",
     "text": [
      "15\n",
      "12\n"
     ]
    }
   ],
   "metadata": {}
  }
 ],
 "metadata": {
  "orig_nbformat": 4,
  "language_info": {
   "name": "python",
   "version": "3.9.5",
   "mimetype": "text/x-python",
   "codemirror_mode": {
    "name": "ipython",
    "version": 3
   },
   "pygments_lexer": "ipython3",
   "nbconvert_exporter": "python",
   "file_extension": ".py"
  },
  "kernelspec": {
   "name": "python3",
   "display_name": "Python 3.9.5 64-bit"
  },
  "interpreter": {
   "hash": "cd9704ac0ac766d663a824839ee99c4e53ab2edc825fefd611336bd41bb448f9"
  }
 },
 "nbformat": 4,
 "nbformat_minor": 2
}